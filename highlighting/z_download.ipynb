{
 "cells": [
  {
   "cell_type": "code",
   "execution_count": 2,
   "metadata": {},
   "outputs": [],
   "source": [
    "import math \n",
    "import torch\n",
    "import random\n",
    "from tqdm import tqdm\n",
    "from transformers import AutoModelForCausalLM, AutoTokenizer\n",
    "\n",
    "from highlight import *\n",
    "from xentlang import X"
   ]
  },
  {
   "cell_type": "code",
   "execution_count": 5,
   "metadata": {},
   "outputs": [
    {
     "data": {
      "text/plain": [
       "('models/gpt2-M0/tokenizer_config.json',\n",
       " 'models/gpt2-M0/special_tokens_map.json',\n",
       " 'models/gpt2-M0/vocab.json',\n",
       " 'models/gpt2-M0/merges.txt',\n",
       " 'models/gpt2-M0/added_tokens.json',\n",
       " 'models/gpt2-M0/tokenizer.json')"
      ]
     },
     "execution_count": 5,
     "metadata": {},
     "output_type": "execute_result"
    }
   ],
   "source": [
    "model_name = \"gpt2\"\n",
    "model = AutoModelForCausalLM.from_pretrained(model_name).to(device)\n",
    "tokenizer = AutoTokenizer.from_pretrained(model_name, clean_up_tokenization_spaces=True)\n",
    "tokenizer.pad_token = tokenizer.eos_token\n",
    "model.config.pad_token_id = model.config.eos_token_id\n",
    "\n",
    "model.save_pretrained(\"models/gpt2-M0\")\n",
    "tokenizer.save_pretrained(\"models/gpt2-M0\")"
   ]
  },
  {
   "cell_type": "code",
   "execution_count": 6,
   "metadata": {},
   "outputs": [],
   "source": [
    "model = AutoModelForCausalLM.from_pretrained(\"models/gpt2-M0/\", local_files_only=True)\n",
    "tokenizer = AutoTokenizer.from_pretrained(\"models/gpt2-M0/\", local_files_only=True)"
   ]
  },
  {
   "cell_type": "code",
   "execution_count": null,
   "metadata": {},
   "outputs": [],
   "source": [
    "def generate_data():\n",
    "    task_manager = HilightWiki()\n",
    "    textok, t1, t2 = task_manager.extract()\n",
    "\n",
    "    min_y_window = int(sub_window_size)\n",
    "    i = random.randint(0, textok.size(-1) - min_y_window)\n",
    "    y = textok[0][i:i+min_y_window]\n",
    "\n",
    "    hilisorted = task_manager.xent_sort(y.unsqueeze(0), t1, t2)\n",
    "\n",
    "    response = detokenize_l(hilisorted)\n",
    "\n",
    "    keep_best = 20\n",
    "\n",
    "    red_best = X().comma.join(response[:keep_best])\n",
    "    blue_best = X().comma.join(response[-keep_best:])\n",
    "\n",
    "    min_y_window = int(sub_window_size)\n",
    "\n",
    "    i = random.randint(0, textok.size(-1) - min_y_window)\n",
    "    slice = textok[0][i:i+min_y_window]\n",
    "    ywidth = 3\n",
    "    o = slice[:ywidth]\n",
    "    c = slice[-ywidth:]\n",
    "\n",
    "    y = (detokenize_w(o), detokenize_w(c))\n",
    "    # print(y)\n",
    "    x1 = detokenize_0(t1)\n",
    "    x2 = detokenize_0(t2)\n",
    "\n",
    "    text = detokenize_0(textok)\n",
    "    func = redblue(y, x1, x2)\n",
    "\n",
    "    output = text+\"\\n\"+func+\"\\n\"+red_best+X().comma+blue_best\n",
    "\n",
    "    return output"
   ]
  },
  {
   "cell_type": "code",
   "execution_count": null,
   "metadata": {},
   "outputs": [],
   "source": [
    "import pyinstrument\n",
    "\n",
    "with pyinstrument.profile():\n",
    "    text = generate_data()\n"
   ]
  },
  {
   "cell_type": "code",
   "execution_count": null,
   "metadata": {},
   "outputs": [],
   "source": [
    "# import pstats\n",
    "# from pstats import SortKey\n",
    "# import cProfile\n",
    "# cProfile.run(\"generate_data()\", \"restats\")\n",
    "# p = pstats.Stats(\"restats\")\n",
    "# p.strip_dirs().sort_stats(SortKey.TIME).print_stats()"
   ]
  },
  {
   "cell_type": "code",
   "execution_count": null,
   "metadata": {},
   "outputs": [],
   "source": [
    "# gen = 1e5\n",
    "# separator = \"£££$$$£££\"\n",
    "\n",
    "# for i in tqdm(range(int(gen))):\n",
    "#     output = generate_data()\n",
    "#     with open(\"highlighting_data.txt\", \"a\") as f:\n",
    "#         f.write(output + separator)"
   ]
  }
 ],
 "metadata": {
  "kernelspec": {
   "display_name": "menv",
   "language": "python",
   "name": "python3"
  },
  "language_info": {
   "codemirror_mode": {
    "name": "ipython",
    "version": 3
   },
   "file_extension": ".py",
   "mimetype": "text/x-python",
   "name": "python",
   "nbconvert_exporter": "python",
   "pygments_lexer": "ipython3",
   "version": "3.12.4"
  }
 },
 "nbformat": 4,
 "nbformat_minor": 2
}
