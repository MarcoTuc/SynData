{
 "cells": [
  {
   "cell_type": "code",
   "execution_count": 1,
   "metadata": {},
   "outputs": [],
   "source": [
    "import torch"
   ]
  },
  {
   "cell_type": "code",
   "execution_count": 2,
   "metadata": {},
   "outputs": [],
   "source": [
    "t = torch.tensor([[  0,   0, 558],\n",
    "        [  1,   0, 539],\n",
    "        [  2,   0, 589],\n",
    "        [  3,   0, 558],\n",
    "        [  4,   0, 345],\n",
    "        [  5,   0, 644],\n",
    "        [  6,   0, 586],\n",
    "        [  7,   0, 525],\n",
    "        [  8,   0, 611],\n",
    "        [  9,   0, 638],\n",
    "        [ 10,   0, 654],\n",
    "        [ 11,   0, 526]], device='cuda:3')\n"
   ]
  },
  {
   "cell_type": "code",
   "execution_count": 7,
   "metadata": {},
   "outputs": [
    {
     "name": "stdout",
     "output_type": "stream",
     "text": [
      "tensor([  0,   0, 558], device='cuda:3')\n",
      "tensor([  1,   0, 539], device='cuda:3')\n",
      "tensor([  2,   0, 589], device='cuda:3')\n",
      "tensor([  3,   0, 558], device='cuda:3')\n",
      "tensor([  4,   0, 345], device='cuda:3')\n",
      "tensor([  5,   0, 644], device='cuda:3')\n",
      "tensor([  6,   0, 586], device='cuda:3')\n",
      "tensor([  7,   0, 525], device='cuda:3')\n",
      "tensor([  8,   0, 611], device='cuda:3')\n",
      "tensor([  9,   0, 638], device='cuda:3')\n",
      "tensor([ 10,   0, 654], device='cuda:3')\n",
      "tensor([ 11,   0, 526], device='cuda:3')\n"
     ]
    }
   ],
   "source": [
    "for x, y, z in t:\n",
    "    print(x)"
   ]
  }
 ],
 "metadata": {
  "kernelspec": {
   "display_name": "menv",
   "language": "python",
   "name": "python3"
  },
  "language_info": {
   "codemirror_mode": {
    "name": "ipython",
    "version": 3
   },
   "file_extension": ".py",
   "mimetype": "text/x-python",
   "name": "python",
   "nbconvert_exporter": "python",
   "pygments_lexer": "ipython3",
   "version": "3.12.4"
  }
 },
 "nbformat": 4,
 "nbformat_minor": 2
}
