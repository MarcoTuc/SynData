{
 "cells": [
  {
   "cell_type": "code",
   "execution_count": 1,
   "metadata": {},
   "outputs": [],
   "source": [
    "from xentlang import X"
   ]
  },
  {
   "cell_type": "code",
   "execution_count": 2,
   "metadata": {},
   "outputs": [
    {
     "data": {
      "text/plain": [
       "'@##$$##@ red-blue(([[porcamadonna>< gesù maiale]]>< zainetto>< pollo allo spiedo))'"
      ]
     },
     "execution_count": 2,
     "metadata": {},
     "output_type": "execute_result"
    }
   ],
   "source": [
    "func = \"def red-blue([~~~ sono definitivamente un coglione ~~~, ~~~ mi hanno defecato il cuore ~~~], ~~~ [vostro onore] ~~~, ~~~ (perfavore)  ~~~)\"\n",
    "\n",
    "func2 = \"def red-blue([{Y1}, {Y2}], {X2}, {X1})\"\n",
    "\n",
    "X().map(func2).format(**{\"Y1\": \"porcamadonna\", \"Y2\": \"gesù maiale\", \"X1\": \"pollo allo spiedo\", \"X2\": \"zainetto\"})\n"
   ]
  }
 ],
 "metadata": {
  "kernelspec": {
   "display_name": "menv",
   "language": "python",
   "name": "python3"
  },
  "language_info": {
   "codemirror_mode": {
    "name": "ipython",
    "version": 3
   },
   "file_extension": ".py",
   "mimetype": "text/x-python",
   "name": "python",
   "nbconvert_exporter": "python",
   "pygments_lexer": "ipython3",
   "version": "3.12.4"
  }
 },
 "nbformat": 4,
 "nbformat_minor": 2
}
