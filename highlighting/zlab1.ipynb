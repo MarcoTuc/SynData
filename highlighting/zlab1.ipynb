{
 "cells": [
  {
   "cell_type": "code",
   "execution_count": 1,
   "metadata": {},
   "outputs": [],
   "source": [
    "%load_ext autoreload\n",
    "%autoreload 2"
   ]
  },
  {
   "cell_type": "code",
   "execution_count": 2,
   "metadata": {},
   "outputs": [
    {
     "data": {
      "application/vnd.jupyter.widget-view+json": {
       "model_id": "0935283743fa4f06ad4b7b7cc9b8d62a",
       "version_major": 2,
       "version_minor": 0
      },
      "text/plain": [
       "Loading dataset shards:   0%|          | 0/41 [00:00<?, ?it/s]"
      ]
     },
     "metadata": {},
     "output_type": "display_data"
    }
   ],
   "source": [
    "from generate import generate_dataset"
   ]
  },
  {
   "cell_type": "code",
   "execution_count": 3,
   "metadata": {},
   "outputs": [
    {
     "data": {
      "application/vnd.jupyter.widget-view+json": {
       "model_id": "069f34c1c9624b4a8c6df241a024714b",
       "version_major": 2,
       "version_minor": 0
      },
      "text/plain": [
       "Loading checkpoint shards:   0%|          | 0/2 [00:00<?, ?it/s]"
      ]
     },
     "metadata": {},
     "output_type": "display_data"
    },
    {
     "data": {
      "application/vnd.jupyter.widget-view+json": {
       "model_id": "3be6336fa35849c5baa3336964aa14fd",
       "version_major": 2,
       "version_minor": 0
      },
      "text/plain": [
       "Loading checkpoint shards:   0%|          | 0/2 [00:00<?, ?it/s]"
      ]
     },
     "metadata": {},
     "output_type": "display_data"
    },
    {
     "name": "stderr",
     "output_type": "stream",
     "text": [
      " 12%|█▏        | 12/100 [00:08<00:39,  2.25it/s]Token indices sequence length is longer than the specified maximum sequence length for this model (1037 > 1024). Running this sequence through the model will result in indexing errors\n",
      "100%|██████████| 100/100 [00:47<00:00,  2.09it/s]\n"
     ]
    }
   ],
   "source": [
    "from evolve import load_model_and_tokenizer\n",
    "\n",
    "model, tokenizer = load_model_and_tokenizer(\"models/gpt2-xl-M0\")\n",
    "\n",
    "D0 = generate_dataset(model, tokenizer, 100)"
   ]
  },
  {
   "cell_type": "code",
   "execution_count": 5,
   "metadata": {},
   "outputs": [
    {
     "name": "stdout",
     "output_type": "stream",
     "text": [
      "The group went on to achieve further chart success in 2003, with two further top five chart hits. \"We Just Be Dreamin'\" reached number three in July 2003, and \"Flip Reverse\", which was co-written by former member Liam D'Souza reached number two in November. \"Flip Reverse\" was subsequently used to re-launch Top of the Pops, with a special performance recorded outside the BBC Television Centre with 100 or so hooded back-up dancers. Despite the chart success of their singles, the group failed to match their success with their second album, Now or Never, only peaking at #36 on the UK Albums Chart. A live recording of a concert in Liverpool was released on DVD for Christmas 2003 but failed to achieve any commercial success. It also failed to re-ignite the low sales of the album. \"Here 4 One\" was issued as the third single from Now or Never in early 2004, peaking at #6 on the UK Singles Chart, but sales failed to be strong enough to warrant a third album deal.\n",
      "Peter Harris (the elder) (died 3 May 1680) was a British buccaneer, one of the captains (along with Bartholomew Sharp and Edmund Cook) in the Pacific Adventure, a privateering expedition headed by Richard Sawkins and John Coxon.  After plundering the mining town of Santa Maria (east of Panama City) on 25 April 1680, the buccaneers set fire to the town and using canoes rowed downstream to the Pacific.  On 3 May the \"expedition\" reached  the port at Perico island off the coast of Panama City, finding there a Spanish fighting force of several barques and other ships. Although eventually victorious, the buccaneers lost twenty men, among them Captain Harris.\n",
      " \n",
      "Another buccaneer called Peter Harris, apparently a nephew of the one mentioned above, was active in the same area during 1684–1685.ReferencesEnglish pirates\n",
      "Year of birth missing\n",
      "1680 deaths\n",
      "@##$$##@red-blue(([[withtwofurther><severalbarques]]><YoucansmellBlazin'Squadalloverthis.\n",
      "><ThisiswhatImeanwhenItalkaboutPeterHarris((buccaneer)).\n",
      "))>:ç%ç>:\n",
      " reached>< chart>< \">< Be>< After>< Just>< the>< their>< in><Fl>< five>< July>< captains>< Despite>< elder>< co>< in><We>< 4>< live><ied>< port><\n",
      ">< chart>< On>< (>< D>< British>< the>< (>< (><80>< Liam><)>< ><the>< bu>< bu><Peter>< Harris\n"
     ]
    }
   ],
   "source": [
    "print(D0[1])"
   ]
  }
 ],
 "metadata": {
  "kernelspec": {
   "display_name": "menv",
   "language": "python",
   "name": "python3"
  },
  "language_info": {
   "codemirror_mode": {
    "name": "ipython",
    "version": 3
   },
   "file_extension": ".py",
   "mimetype": "text/x-python",
   "name": "python",
   "nbconvert_exporter": "python",
   "pygments_lexer": "ipython3",
   "version": "3.12.4"
  }
 },
 "nbformat": 4,
 "nbformat_minor": 2
}
