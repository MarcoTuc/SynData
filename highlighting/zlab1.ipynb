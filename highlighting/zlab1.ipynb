{
 "cells": [
  {
   "cell_type": "code",
   "execution_count": 1,
   "metadata": {},
   "outputs": [],
   "source": [
    "%load_ext autoreload\n",
    "%autoreload 2"
   ]
  },
  {
   "cell_type": "code",
   "execution_count": 2,
   "metadata": {},
   "outputs": [],
   "source": [
    "import pickle"
   ]
  },
  {
   "cell_type": "code",
   "execution_count": 3,
   "metadata": {},
   "outputs": [
    {
     "data": {
      "application/vnd.jupyter.widget-view+json": {
       "model_id": "08ffd65b8a9c46a8b2d7255d0175c2e5",
       "version_major": 2,
       "version_minor": 0
      },
      "text/plain": [
       "Loading dataset shards:   0%|          | 0/41 [00:00<?, ?it/s]"
      ]
     },
     "metadata": {},
     "output_type": "display_data"
    }
   ],
   "source": [
    "from generate import generate_dataset"
   ]
  },
  {
   "cell_type": "code",
   "execution_count": 4,
   "metadata": {},
   "outputs": [
    {
     "data": {
      "application/vnd.jupyter.widget-view+json": {
       "model_id": "e20d20eb6df24043b32b25b1c81df80d",
       "version_major": 2,
       "version_minor": 0
      },
      "text/plain": [
       "Loading checkpoint shards:   0%|          | 0/2 [00:00<?, ?it/s]"
      ]
     },
     "metadata": {},
     "output_type": "display_data"
    }
   ],
   "source": [
    "from evolve import load_model_and_tokenizer\n",
    "\n",
    "model, tokenizer = load_model_and_tokenizer(\"models/gpt2-xl-M0\")"
   ]
  },
  {
   "cell_type": "code",
   "execution_count": 7,
   "metadata": {},
   "outputs": [
    {
     "name": "stderr",
     "output_type": "stream",
     "text": [
      "100%|██████████| 5/5 [00:02<00:00,  1.99it/s]\n"
     ]
    }
   ],
   "source": [
    "D0 = generate_dataset(model, tokenizer, 5, keep_best=None)"
   ]
  },
  {
   "cell_type": "code",
   "execution_count": 10,
   "metadata": {},
   "outputs": [],
   "source": [
    "from generate import save_dataset\n",
    "save_dataset(\"data/D0.pkl\", D0)"
   ]
  },
  {
   "cell_type": "code",
   "execution_count": 11,
   "metadata": {},
   "outputs": [
    {
     "name": "stdout",
     "output_type": "stream",
     "text": [
      "The 1923 Grouping saw the station pass from the NER into the control of the London and North Eastern Railway.  Services on both routes remained well used and in 1938, the line from Newcastle was electrified on the 660 V DC system as an extension of the existing North Tyneside suburban network.Nationalisation in 1948 saw the station become part of British Railways North Eastern Region, but over the next few years services began to decline - those to Whitburn Colliery ended in November 1953, whilst the direct Sunderland trains fell victim to the Beeching Axe in May 1965 (passengers thereafter having to change at Pelaw).  The Newcastle line was also converted to diesel multiple unit operation in 1963, with BR stating that it was cheaper to remove the third rail than renew the electrical equipment on the route.  Though it survived the Beeching cuts, by the 1970s the station (and route) had become increasingly run down and so it was a logical choice to be included in the planned Tyne & Wear Metro network.It was eventually closed on 1 June 1981, when the line was temporarily shut down for conversion to Metro operation.  It was replaced by a new South Shields Metro station a short distance to the south, when the line reopened in 1984. The station building survived as an entrance to the Metro system until the 1990s, when it was demolished.Today, a Shopmobility centre stands on the site of the original station building. The new building was built to a similar style as the station it replaced.  The platforms behind have been removed, but the rest of the site is still used by Metro as carriage & engineers' sidings.\n",
      "Boza-Edwards was given another opportunity when he was scheduled to compete as a featherweight boxer for Uganda in the 1976 Montreal Olympics. However, Uganda boycotted the Montreal Olympics, as did many other African countries. The boycott deprived him of the chance of competing in the Olympics.Professional career\n",
      "In 1976, Boza-Edwards turned professional with Mickey Duff as his manager and George Francis as his trainer. He changed his surname to Boza on the recommendation of Mickey Duff. As it was an easier name for the fans to remember and added Edwards out of respect for Jack Edwards his mentor.Boza-Edwards won his first nine fights before suffering a loss to Des Gwilliam when he suffered a cut eye. He then went on an 18-fight winning streak and was offered a fight as a substitute against Alexis Arguello. He put up a spirited performance before being retired by his corner at the end of the eighth round. Arguello praised Boza-Edwards and said that he thought that he would become the champion after he had moved up in weight to the lightweight division. Boza-Edwards was actually boxing in the lightweight division at the time but moved down to the super-featherweight division.\n",
      "@##$$##@ red-blue(([[ the station pass><  another opportunity when]]>< Cornelius Boza-Edwards screams from every corner of this.\n",
      ">< The things most commonly associated with South Shields railway station are these.\n",
      "))>:ç%ç>:\n",
      "ne>< Metro>< down>< Shields>< planned>< become>< station>< closed>< run>< &>< route>< operation>< South>< network>< Ty>< it>< eventually>< and>< logical>< increasingly>< station>< Uganda><Today>< short>< included>< turned>< another>< >< scheduled>< as>< had>< out>< given>< when>< feather>< Bo><and>< a>< opportunity>< a>< was>< compete><)><Bo>< he><wards><mob><-><Ed><za\n"
     ]
    }
   ],
   "source": [
    "import pickle\n",
    "with open(\"data/D0.pkl\", \"rb\") as f:\n",
    "    D0 = pickle.load(f)\n",
    "print(D0[0])"
   ]
  }
 ],
 "metadata": {
  "kernelspec": {
   "display_name": "menv",
   "language": "python",
   "name": "python3"
  },
  "language_info": {
   "codemirror_mode": {
    "name": "ipython",
    "version": 3
   },
   "file_extension": ".py",
   "mimetype": "text/x-python",
   "name": "python",
   "nbconvert_exporter": "python",
   "pygments_lexer": "ipython3",
   "version": "3.12.4"
  }
 },
 "nbformat": 4,
 "nbformat_minor": 2
}
