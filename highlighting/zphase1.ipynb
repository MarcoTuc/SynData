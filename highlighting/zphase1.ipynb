{
 "cells": [
  {
   "cell_type": "code",
   "execution_count": 1,
   "metadata": {},
   "outputs": [],
   "source": [
    "%load_ext autoreload\n",
    "%autoreload 2"
   ]
  },
  {
   "cell_type": "code",
   "execution_count": 2,
   "metadata": {},
   "outputs": [
    {
     "data": {
      "application/vnd.jupyter.widget-view+json": {
       "model_id": "c1bffee7b9fe4404a02abf5a710485ec",
       "version_major": 2,
       "version_minor": 0
      },
      "text/plain": [
       "Loading dataset shards:   0%|          | 0/41 [00:00<?, ?it/s]"
      ]
     },
     "metadata": {},
     "output_type": "display_data"
    }
   ],
   "source": [
    "import math \n",
    "import torch\n",
    "import random\n",
    "from transformers import AutoModelForCausalLM, AutoTokenizer\n",
    "\n",
    "from highlight import *\n",
    "from highlight import XentLang as X"
   ]
  },
  {
   "cell_type": "code",
   "execution_count": 3,
   "metadata": {},
   "outputs": [],
   "source": [
    "task_manager = HilightWiki()\n",
    "textok, t1, t2 = task_manager.create()\n",
    "hilisorted = task_manager.extract(textok, t1, t2)"
   ]
  },
  {
   "cell_type": "code",
   "execution_count": 4,
   "metadata": {},
   "outputs": [
    {
     "name": "stdout",
     "output_type": "stream",
     "text": [
      "is a passenger railway station in located in the town of Nachikatsuura, Higashimuro District, Wakayama Prefecture, Japan, operated by West Japan Railway Company (JR West).Lines\n",
      "Kii-Uragami  Station is served by the Kisei Main Line (Kinokuni Line), and is located 205.5 kilometers from the terminus of the line at Kameyama Station and 24.8 kilometers from.Station layout\n",
      "The station consists of one island platform connected go the station building by a level crossing. The station is unattended.PlatformsAdjacent stations|-\n",
      "!colspan=5|West Japan Railway Company (JR West)History\n",
      "Kii-Uragami Station opened on December 11, 1936. With the privatization of the Japan National Railways (JNR) on April 1, 1987, the station came under the aegis of the West Japan Railway Company.Passenger statistics\n",
      "In fiscal 2019, the station was used by an average of 9 passengers daily (boarding passengers only).Surrounding Area\n",
      " Tamanoura fishing village\n",
      " Japan National Route 42See also\n",
      "List of railway stations in JapanReferencesExternal links Kii-Uragami Station (West Japan Railway) Railway stations in Wakayama Prefecture\n",
      "Railway stations in Japan opened in 1936\n",
      "Nachikatsuura\n",
      "The Wadena Depot is a historic former railway station in Wadena, Minnesota, United States, operated by the Northern Pacific Railway from 1915 to 1971.  The station was listed on the National Register of Historic Places in 1989 under the name Northern Pacific Passenger Depot for having local significance in the theme of transportation.  It was nominated for representing the impact of the Northern Pacific Railway on the establishment and development of Wadena.Passenger service ceased in 1971, though the adjacent rail line remains in active use by the BNSF Railway.  The building was restored in 2008 and now serves as a visitor center, railroad museum, and event venue.See also\n",
      " National Register of Historic Places listings in Wadena County, MinnesotaReferencesExternal links\n",
      " The Depot1915 establishments in Minnesota\n",
      "Buildings and structures in Wadena County, Minnesota\n",
      "Former railway stations in Minnesota\n",
      "Former Northern Pacific Railway stations\n",
      "Railroad museums in Minnesota\n",
      "Railway stations on the National Register of Historic Places in Minnesota\n",
      "Railway stations in the United States opened in 1915\n",
      "Railway stations closed in 1971\n",
      "Tourist attractions in Wadena County, Minnesota\n",
      "National Register of Historic Places in Wadena County, Minnesota\n",
      "@#@#@xent_redblue~(~[ the station came>< County, Minnesota]~><If Kii-Uragami Station were a book, this would be its intro.\n",
      "><Wadena Depot is not connected to this issue.\n",
      ")~:>:>:\n",
      "Ur><ii><ami><-><ag>< station><K>< Station>< layout>< Depot>< line>< termin><Station><ise>< >< operated>< is><L>< Depot><adena\n"
     ]
    }
   ],
   "source": [
    "# task textification\n",
    "\n",
    "response = detokenize_l(hilisorted)\n",
    "\n",
    "keep_best = 10\n",
    "\n",
    "red_best = xent_comma.join(response[:keep_best])\n",
    "blue_best = xent_comma.join(response[-keep_best:])\n",
    "\n",
    "min_y_window = int(sub_window_size)\n",
    "\n",
    "i = random.randint(0, textok.size(-1) - min_y_window)\n",
    "slice = textok[0][i:i+min_y_window]\n",
    "ywidth = 3\n",
    "o = slice[:ywidth]\n",
    "c = slice[-ywidth:]\n",
    "\n",
    "y = (detokenize_w(o), detokenize_w(c))\n",
    "# print(y)\n",
    "x1 = detokenize_0(t1)\n",
    "x2 = detokenize_0(t2)\n",
    "\n",
    "text = detokenize_0(textok)\n",
    "func = redblue(y, x1, x2)\n",
    "\n",
    "print(text+\"\\n\"+func+\"\\n\"+red_best+xent_comma+blue_best)"
   ]
  },
  {
   "cell_type": "code",
   "execution_count": 5,
   "metadata": {},
   "outputs": [
    {
     "name": "stdout",
     "output_type": "stream",
     "text": [
      "is a passenger railway station in located in the town of Nachikatsuura, Higashimuro District, Wakayama Prefecture, Japan, operated by West Japan Railway Company (JR West).Lines\n",
      "Kii-Uragami  Station is served by the Kisei Main Line (Kinokuni Line), and is located 205.5 kilometers from the terminus of the line at Kameyama Station and 24.8 kilometers from.Station layout\n",
      "The station consists of one island platform connected go the station building by a level crossing. The station is unattended.PlatformsAdjacent stations|-\n",
      "!colspan=5|West Japan Railway Company (JR West)History\n",
      "Kii-Uragami Station opened on December 11, 1936. With the privatization of the Japan National Railways (JNR) on April 1, 1987, the station came under the aegis of the West Japan Railway Company.Passenger statistics\n",
      "In fiscal 2019, the station was used by an average of 9 passengers daily (boarding passengers only).Surrounding Area\n",
      " Tamanoura fishing village\n",
      " Japan National Route 42See also\n",
      "List of railway stations in JapanReferencesExternal links Kii-Uragami Station (West Japan Railway) Railway stations in Wakayama Prefecture\n",
      "Railway stations in Japan opened in 1936\n",
      "Nachikatsuura\n",
      "The Wadena Depot is a historic former railway station in Wadena, Minnesota, United States, operated by the Northern Pacific Railway from 1915 to 1971.  The station was listed on the National Register of Historic Places in 1989 under the name Northern Pacific Passenger Depot for having local significance in the theme of transportation.  It was nominated for representing the impact of the Northern Pacific Railway on the establishment and development of Wadena.Passenger service ceased in 1971, though the adjacent rail line remains in active use by the BNSF Railway.  The building was restored in 2008 and now serves as a visitor center, railroad museum, and event venue.See also\n",
      " National Register of Historic Places listings in Wadena County, MinnesotaReferencesExternal links\n",
      " The Depot1915 establishments in Minnesota\n",
      "Buildings and structures in Wadena County, Minnesota\n",
      "Former railway stations in Minnesota\n",
      "Former Northern Pacific Railway stations\n",
      "Railroad museums in Minnesota\n",
      "Railway stations on the National Register of Historic Places in Minnesota\n",
      "Railway stations in the United States opened in 1915\n",
      "Railway stations closed in 1971\n",
      "Tourist attractions in Wadena County, Minnesota\n",
      "National Register of Historic Places in Wadena County, Minnesota\n",
      "@#@#@xent_redblue~(~[ of one island><Buildings and]~><If Kii-Uragami Station were a book, this would be its intro.\n",
      "><Wadena Depot is not connected to this issue.\n",
      ")~:>:>:\n",
      "Ur><ii><ami><-><ag>< station><K>< Station>< layout>< Depot>< N><ik>< a><atsu><Pass>< historic><is><K>< Station><JR>< in>< Northern>< K><ii><History>< Station>< in><ach>< 1915>< former><West>< K><See><References><ura><\n",
      "><19>< The>< a><ame>< Main>< railroad>< 1915>< (>< United>< restored>< 2019>< 205>< the><ii>< stations><span>< listings>< the>< (>< rail>< kilometers>< Company><J>< in>< Japan>< Northern>< and><Pass>< operated><ines><\n",
      ">< National>< fishing>< is>< a><External>< Japan><The><\n",
      "><),><Sur>< building>< located><,>< railway>< event><ok>< Japan>< now>< With><j><15>< active><\n",
      "><\n",
      ">< remains>< County>< Pre>< go>< opened>< (>< name><5>< the><\n",
      ">< Wak>< of>< The>< came>< establishment><\n",
      ">< town>< use><road><col>< W><\n",
      ">< County>< from>< was><=>< Route>< B><|><In>< railway><way><\n",
      ">< in><\n",
      "><,><\n",
      ">< by>< Pacific>< island><.><\n",
      ">< Japan>< Station><).><\n",
      ">< adjacent>< Japan>< in>< consists>< at><List>< Minnesota><,><.>< >< the>< Line>< stations>< 1989><National><enger><->< 2008>< center>< on><\n",
      "><,><Platform>< Company>< passengers><Tour>< in><Kin>< 24>< in>< stations><The>< was>< Rail>< Minnesota><8>< (><.>< Japan><.>< the><.>< W>< (><boarding>< in><References>< is><s><\n",
      "><->< 1936>< 1936>< in>< the><,>< on>< though>< passengers>< Railway>< on>< the><.>< It>< of>< for>< the>< in>< the>< by>< and><,>< in>< in><\n",
      ">< of><,><.>< in>< National>< also><ing>< impact>< West>< a>< in>< links>< for><,>< 11>< stations>< in><5><.><NS><,>< in>< Company>< (><Ur><ings><,>< attractions>< 9><ist>< by>< the><ways><ay>< the>< West>< Railway>< County>< Railway>< stations><way>< United><,>< by><ami>< Places><ama><fecture><adena>< as>< Minnesota>< in>< the>< station><ama><ami>< to>< museum>< Railway><ag>< Pacific>< Register>< Historic><is>< of>< Places>< Historic>< in><NR><F>< Historic><acent><adena><adena><ama><fecture><adena><adena><adena><ura>< Pacific>< States>< Places>< Minnesota>< Places>< Historic><atsu><ag><way>< of>< of>< from><uni><us>< of><ik>< of><Ur>< States>< development>< Minnesota><ay><ra>< Pacific>< Register>< of>< under><enger><N>< stations>< 1971>< of>< of>< served>< links>< on>< also><way>< of>< an>< in>< opened>< West>< Minnesota>< only>< Japan><ou>< kilometers>< in>< of>< station>< Japan>< the>< Japan><JR>< the>< in>< Railway><,><\n",
      ">< and>< listed>< average><,>< 42>< stations>< village>< and>< Line>< a>< Pre><\n",
      ">< Register><)>< 1987>< was>< Depot><\n",
      ">< of>< statistics>< and><See>< the><\n",
      ">< building>< April>< privatization>< 1>< the>< venue>< stations><\n",
      "><.>< National>< from><)>< was>< Minnesota>< T><!><way><)>< The>< having>< stations>< in><Rail>< Northern><).>< museums>< serves>< in>< connected><,>< the>< level>< the><.>< 1971>< by>< the>< local>< daily>< significance>< the><|>< December>< Northern><,><,>< by>< visitor>< W><.>< Register><,>< the>< W>< National>< one>< transportation>< Railway>< the><West>< station>< opened>< 1971><round><Rail><\n",
      "><aman>< Minnesota>< used>< Railway>< W>< The>< on><Former><Rail>< structures>< representing>< closed>< Passenger><Rail><Rail>< ceased>< station>< crossing>< and><i>< West>< nominated>< unatt><ended>< passenger>< under>< service><,><ach>< theme><Former><Rail><-><ash>< Minnesota><External>< Railway>< line><eg>< establishments>< Hig>< W>< W>< railway>< railway>< ><y><Build><.>< fiscal>< >< >< is>< County>< K>< National>< Area>< station>< located>< station>< station>< platform><Ad>< District>< Wak><im><uro>< line>< termin><Station><ise>< >< operated>< is><L>< Depot><adena\n"
     ]
    }
   ],
   "source": [
    "# task textification\n",
    "\n",
    "response = detokenize_l(hilisorted)\n",
    "\n",
    "min_y_window = int(sub_window_size)\n",
    "\n",
    "i = random.randint(0, textok.size(-1) - min_y_window)\n",
    "slice = textok[0][i:i+min_y_window]\n",
    "ywidth = 3\n",
    "o = slice[:ywidth]\n",
    "c = slice[-ywidth:]\n",
    "\n",
    "y = (detokenize_w(o), detokenize_w(c))\n",
    "\n",
    "x1 = detokenize_0(t1)\n",
    "x2 = detokenize_0(t2)\n",
    "\n",
    "text = detokenize_0(textok)\n",
    "func = redblue(y, x1, x2)\n",
    "\n",
    "response = XentLang().map(\",\").join(response)\n",
    "\n",
    "print(text+\"\\n\"+func+\"\\n\"+response)"
   ]
  },
  {
   "cell_type": "code",
   "execution_count": 7,
   "metadata": {},
   "outputs": [
    {
     "data": {
      "text/plain": [
       "'@##$$##@redblue(([[a><b]]><c><d))>:ç%ç>:'"
      ]
     },
     "execution_count": 7,
     "metadata": {},
     "output_type": "execute_result"
    }
   ],
   "source": [
    "XentLang().map(\"def redblue([a, b], c, d):\")"
   ]
  }
 ],
 "metadata": {
  "kernelspec": {
   "display_name": "menv",
   "language": "python",
   "name": "python3"
  },
  "language_info": {
   "codemirror_mode": {
    "name": "ipython",
    "version": 3
   },
   "file_extension": ".py",
   "mimetype": "text/x-python",
   "name": "python",
   "nbconvert_exporter": "python",
   "pygments_lexer": "ipython3",
   "version": "3.12.4"
  }
 },
 "nbformat": 4,
 "nbformat_minor": 2
}
