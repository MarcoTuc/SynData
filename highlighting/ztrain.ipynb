{
 "cells": [
  {
   "cell_type": "code",
   "execution_count": 2,
   "metadata": {},
   "outputs": [],
   "source": [
    "import os\n",
    "import pickle"
   ]
  },
  {
   "cell_type": "code",
   "execution_count": 9,
   "metadata": {},
   "outputs": [],
   "source": [
    "with open(\"data/highlighting_1.txt\", \"rb\") as f:\n",
    "    data = f.read()"
   ]
  },
  {
   "cell_type": "code",
   "execution_count": 16,
   "metadata": {},
   "outputs": [
    {
     "name": "stdout",
     "output_type": "stream",
     "text": [
      "1970s\n",
      "Creation of LINPACK and associated benchmark by Dongarra et al., as well as BLAS.1980s\n",
      " Progress in digital wavelet theory throughout  the decade, led by Daubechies et al.\n",
      "Creation of MINPACK \n",
      " Fast multipole method (voted one of the top 10 algorithms of the 20th century) invented by Rokhlin and Greengard.\n",
      " First edition of Numerical Recipes  by  Press, Teukolsky, et al.\n",
      " In numerical linear algebra, the GMRES algorithm invented in 1986.See also\n",
      " Scientific computing\n",
      " History of numerical solution of differential equations using computers\n",
      " Numerical analysis\n",
      " Timeline of computational mathematicsReferencesFurther readingExternal links\n",
      " The History of Numerical Analysis and Scientific Computing @ SIAM (Society for Industrial and Applied Mathematics)\n",
      " \n",
      " The Monte Carlo Method: Classic Papers\n",
      " Monte Carlo Landmark Papers\n",
      " “Must read” papers in numerical analysis. Discussion at MathOverflow based upon a selected reading list on Lloyd N. Trefethen's personal site.nume\n",
      "Numerical analysis\n",
      "Cast\n",
      " Arun Govil as Kundan Sharma, an orphan adopted and brought up by Ramprasad Sharma and his wife Laxmi. He is banished when he opposes Jagdish's motive to mortgage their house and comes to Mumbai where he establishes himself as a successful business professional.\n",
      " Debashree Roy as Vidya, wife of Kundan Sharma. A naive village girl who believes Baanke and comes along with him to Mumbai to meet Kundan and falls into the trap of Seth Chandan Bal's gang.\n",
      " Jayshree Gadkar as Laxmi, the eldest sister-in-law of Kundan and wife of Ramprasad Sharma. She is tolerant, uncomplaining and very fond of her brothers-in-law. \n",
      " Ram Mohan as Ramprasad Sharma, the eldest brother of Kundan.\n",
      " Vijay Arora as Jagdish Sharma, an aspiring business professional who is carried away by ambition.\n",
      " Neelam Mehra as Pinky, the snobbish, ambitious wife of Jagdish Sharma. She motivates Ramprasad Sharma to mortgage their house and later causes distress to him and his wife Laxmi.\n",
      " Ram Sethi as Romeo\n",
      " Usman as Baanke\n",
      " Goga Kapoor as Seth Chandan Bal\n",
      " Raj Bharti\n",
      " T P JainCrewSoundtrackReferencesExternal links\n",
      " 1981 films\n",
      "1980s Hindi-language films\n",
      "Indian films\n",
      "Hindi-language films\n",
      "@#@#@xent_redblue~(~[ACK and associated><mi, the]~><This makes Timeline of numerical analysis after 1945 look like a close relative topic.\n",
      "><It's clear that Jiyo To Aise Jiyo isn't involved here.\n",
      ")~:>:>:\n",
      " algorithms><h>< Timeline>< Press>< computing>< and><umer><ok>< numerical><lin>< edition>< Analysis>< (>< analysis>< Scientific>< History>< numerical>< solution>< History><N>< computational>< Green>< 20>< ><,>< invented><uk><\n",
      ">< Monte>< Monte><gard>< one>< mathematics>< Ar><References>< The>< linear>< The>< In>< Recipes\n"
     ]
    }
   ],
   "source": [
    "with open(\"data/highlighting_data.pkl\", \"rb\") as f:\n",
    "    data2 = pickle.load(f)\n",
    "\n",
    "print(data2[2])"
   ]
  }
 ],
 "metadata": {
  "kernelspec": {
   "display_name": "menv",
   "language": "python",
   "name": "python3"
  },
  "language_info": {
   "codemirror_mode": {
    "name": "ipython",
    "version": 3
   },
   "file_extension": ".py",
   "mimetype": "text/x-python",
   "name": "python",
   "nbconvert_exporter": "python",
   "pygments_lexer": "ipython3",
   "version": "3.12.4"
  }
 },
 "nbformat": 4,
 "nbformat_minor": 2
}
