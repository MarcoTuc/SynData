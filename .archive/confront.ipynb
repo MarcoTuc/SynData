{
 "cells": [
  {
   "cell_type": "code",
   "execution_count": 2,
   "metadata": {},
   "outputs": [],
   "source": [
    "%load_ext autoreload\n",
    "%autoreload 2"
   ]
  },
  {
   "cell_type": "code",
   "execution_count": 3,
   "metadata": {},
   "outputs": [
    {
     "data": {
      "application/vnd.jupyter.widget-view+json": {
       "model_id": "7c560f53937b472eb8a4a39ab4b2f9a1",
       "version_major": 2,
       "version_minor": 0
      },
      "text/plain": [
       "Loading dataset shards:   0%|          | 0/41 [00:00<?, ?it/s]"
      ]
     },
     "metadata": {},
     "output_type": "display_data"
    }
   ],
   "source": [
    "import math \n",
    "import torch\n",
    "import random\n",
    "from transformers import AutoModelForCausalLM, AutoTokenizer\n",
    "\n",
    "from highlight import *\n",
    "from highlight import XentLang as X"
   ]
  },
  {
   "cell_type": "code",
   "execution_count": 15,
   "metadata": {},
   "outputs": [],
   "source": [
    "task_manager = HilightWiki()\n",
    "textok = \"\"\"Hello, it is today a lovely day to use my skills in differential geometry and in the calculus of variation to estimate\n",
    "how much grass I will be able to eat. I aim to produce a lot of milk and to write a lot of theorems for my children,\n",
    "because that's what the beauty of life is about, dear physicists and cheese-makers. Have a great day!\"\"\"\n",
    "t1 = \"I am a swiss mathematician. \"\n",
    "t2 = \"I am a swiss cow. \"\n",
    "\n",
    "textok = tokenize(textok).input_ids\n",
    "t1 = tokenize(t1).input_ids\n",
    "t2 = tokenize(t2).input_ids\n",
    "\n",
    "hilisorted = task_manager.extract(textok, t1, t2)"
   ]
  },
  {
   "cell_type": "code",
   "execution_count": 16,
   "metadata": {},
   "outputs": [
    {
     "name": "stdout",
     "output_type": "stream",
     "text": [
      "Hello, it is today a lovely day to use my skills in differential geometry and in the calculus of variation to estimate\n",
      "how much grass I will be able to eat. I aim to produce a lot of milk and to write a lot of theorems for my children,\n",
      "because that's what the beauty of life is about, dear physicists and cheese-makers. Have a great day!\n",
      "@#@#@xent_redblue~(~[ of theore>< great day!]~><I am a swiss mathematician. ><I am a swiss cow. )~:>:>:\n",
      " differential><Hello>< skills>< a>< beauty>< geometry>< Have>< calculus>< children>< and><,>< estimate>< eat><how>< lovely>< cheese><ore>< to>< grass>< milk\n"
     ]
    }
   ],
   "source": [
    "# task textification\n",
    "\n",
    "response = detokenize_l(hilisorted)\n",
    "\n",
    "keep_best = 10\n",
    "\n",
    "red_best = xent_comma.join(response[:keep_best])\n",
    "blue_best = xent_comma.join(response[-keep_best:])\n",
    "\n",
    "min_y_window = int(sub_window_size)\n",
    "\n",
    "i = 47\n",
    "slice = textok[0][i:i+min_y_window]\n",
    "ywidth = 3\n",
    "o = slice[:ywidth]\n",
    "c = slice[-ywidth:]\n",
    "\n",
    "y = (detokenize_w(o), detokenize_w(c))\n",
    "# print(y)\n",
    "x1 = detokenize_0(t1)\n",
    "x2 = detokenize_0(t2)\n",
    "\n",
    "text = detokenize_0(textok)\n",
    "func = redblue(y, x1, x2)\n",
    "\n",
    "print(text+\"\\n\"+func+\"\\n\"+red_best+xent_comma+blue_best)"
   ]
  },
  {
   "cell_type": "code",
   "execution_count": 19,
   "metadata": {},
   "outputs": [
    {
     "name": "stdout",
     "output_type": "stream",
     "text": [
      "Hello, it is today a lovely day to use my skills in differential geometry and in the calculus of variation to estimate\n",
      "how much grass I will be able to eat. I aim to produce a lot of milk and to write a lot of theorems for my children,\n",
      "because that's what the beauty of life is about, dear physicists and cheese-makers. Have a great day!\n",
      "@#@#@xent_redblue~(~[Hello, it>< great day!]~><I am a swiss mathematician. ><I am a swiss cow. )~:>:>:\n",
      " differential><Hello>< skills>< a>< beauty>< geometry>< Have>< calculus>< children>< and><because>< in>< I>< it>< use>< is>< physicists><\n",
      ">< lot><.>< my>< and>< that>< write>< and>< much>< day>< for>< will>< I><\n",
      ">< a>< my>< of>< what>< in>< able>< of>< a><,>< day><ms>< to>< lot><.>< of>< be>< is>< the>< to>< about>< aim>< today>< life><,>< great><makers><!>< dear><->< of>< to>< variation>< the>< to>< a><'s>< produce>< the><,>< estimate>< eat><how>< lovely>< cheese><ore>< to>< grass>< milk\n"
     ]
    }
   ],
   "source": [
    "# task textification\n",
    "\n",
    "response = detokenize_l(hilisorted)\n",
    "\n",
    "slice = textok[0]\n",
    "\n",
    "ywidth = 3\n",
    "o = slice[:ywidth]\n",
    "c = slice[-ywidth:]\n",
    "\n",
    "y = (detokenize_w(o), detokenize_w(c))\n",
    "\n",
    "x1 = detokenize_0(t1)\n",
    "x2 = detokenize_0(t2)\n",
    "\n",
    "text = detokenize_0(textok)\n",
    "func = redblue(y, x1, x2)\n",
    "\n",
    "print(text+\"\\n\"+func+\"\\n\"+XentLang().map(\",\").join(response))"
   ]
  },
  {
   "cell_type": "code",
   "execution_count": 6,
   "metadata": {},
   "outputs": [
    {
     "ename": "ValueError",
     "evalue": "empty range in randrange(0, -99)",
     "output_type": "error",
     "traceback": [
      "\u001b[0;31m---------------------------------------------------------------------------\u001b[0m",
      "\u001b[0;31mValueError\u001b[0m                                Traceback (most recent call last)",
      "Cell \u001b[0;32mIn[6], line 7\u001b[0m\n\u001b[1;32m      3\u001b[0m response \u001b[38;5;241m=\u001b[39m detokenize_l(hilisorted)\n\u001b[1;32m      5\u001b[0m min_y_window \u001b[38;5;241m=\u001b[39m \u001b[38;5;28mint\u001b[39m(sub_window_size)\n\u001b[0;32m----> 7\u001b[0m i \u001b[38;5;241m=\u001b[39m \u001b[43mrandom\u001b[49m\u001b[38;5;241;43m.\u001b[39;49m\u001b[43mrandint\u001b[49m\u001b[43m(\u001b[49m\u001b[38;5;241;43m0\u001b[39;49m\u001b[43m,\u001b[49m\u001b[43m \u001b[49m\u001b[43mtextok\u001b[49m\u001b[38;5;241;43m.\u001b[39;49m\u001b[43msize\u001b[49m\u001b[43m(\u001b[49m\u001b[38;5;241;43m-\u001b[39;49m\u001b[38;5;241;43m1\u001b[39;49m\u001b[43m)\u001b[49m\u001b[43m \u001b[49m\u001b[38;5;241;43m-\u001b[39;49m\u001b[43m \u001b[49m\u001b[43mmin_y_window\u001b[49m\u001b[43m)\u001b[49m\n\u001b[1;32m      8\u001b[0m \u001b[38;5;28mslice\u001b[39m \u001b[38;5;241m=\u001b[39m textok[\u001b[38;5;241m0\u001b[39m][i:i\u001b[38;5;241m+\u001b[39mmin_y_window]\n\u001b[1;32m      9\u001b[0m ywidth \u001b[38;5;241m=\u001b[39m \u001b[38;5;241m3\u001b[39m\n",
      "File \u001b[0;32m/usr/lib/python3.12/random.py:336\u001b[0m, in \u001b[0;36mRandom.randint\u001b[0;34m(self, a, b)\u001b[0m\n\u001b[1;32m    332\u001b[0m \u001b[38;5;28;01mdef\u001b[39;00m \u001b[38;5;21mrandint\u001b[39m(\u001b[38;5;28mself\u001b[39m, a, b):\n\u001b[1;32m    333\u001b[0m \u001b[38;5;250m    \u001b[39m\u001b[38;5;124;03m\"\"\"Return random integer in range [a, b], including both end points.\u001b[39;00m\n\u001b[1;32m    334\u001b[0m \u001b[38;5;124;03m    \"\"\"\u001b[39;00m\n\u001b[0;32m--> 336\u001b[0m     \u001b[38;5;28;01mreturn\u001b[39;00m \u001b[38;5;28;43mself\u001b[39;49m\u001b[38;5;241;43m.\u001b[39;49m\u001b[43mrandrange\u001b[49m\u001b[43m(\u001b[49m\u001b[43ma\u001b[49m\u001b[43m,\u001b[49m\u001b[43m \u001b[49m\u001b[43mb\u001b[49m\u001b[38;5;241;43m+\u001b[39;49m\u001b[38;5;241;43m1\u001b[39;49m\u001b[43m)\u001b[49m\n",
      "File \u001b[0;32m/usr/lib/python3.12/random.py:319\u001b[0m, in \u001b[0;36mRandom.randrange\u001b[0;34m(self, start, stop, step)\u001b[0m\n\u001b[1;32m    317\u001b[0m     \u001b[38;5;28;01mif\u001b[39;00m width \u001b[38;5;241m>\u001b[39m \u001b[38;5;241m0\u001b[39m:\n\u001b[1;32m    318\u001b[0m         \u001b[38;5;28;01mreturn\u001b[39;00m istart \u001b[38;5;241m+\u001b[39m \u001b[38;5;28mself\u001b[39m\u001b[38;5;241m.\u001b[39m_randbelow(width)\n\u001b[0;32m--> 319\u001b[0m     \u001b[38;5;28;01mraise\u001b[39;00m \u001b[38;5;167;01mValueError\u001b[39;00m(\u001b[38;5;124mf\u001b[39m\u001b[38;5;124m\"\u001b[39m\u001b[38;5;124mempty range in randrange(\u001b[39m\u001b[38;5;132;01m{\u001b[39;00mstart\u001b[38;5;132;01m}\u001b[39;00m\u001b[38;5;124m, \u001b[39m\u001b[38;5;132;01m{\u001b[39;00mstop\u001b[38;5;132;01m}\u001b[39;00m\u001b[38;5;124m)\u001b[39m\u001b[38;5;124m\"\u001b[39m)\n\u001b[1;32m    321\u001b[0m \u001b[38;5;66;03m# Non-unit step argument supplied.\u001b[39;00m\n\u001b[1;32m    322\u001b[0m \u001b[38;5;28;01mif\u001b[39;00m istep \u001b[38;5;241m>\u001b[39m \u001b[38;5;241m0\u001b[39m:\n",
      "\u001b[0;31mValueError\u001b[0m: empty range in randrange(0, -99)"
     ]
    }
   ],
   "source": [
    "# task textification\n",
    "\n",
    "response = detokenize_l(hilisorted)\n",
    "\n",
    "min_y_window = int(sub_window_size)\n",
    "\n",
    "i = random.randint(0, textok.size(-1) - min_y_window)\n",
    "slice = textok[0][i:i+min_y_window]\n",
    "ywidth = 3\n",
    "o = slice[:ywidth]\n",
    "c = slice[-ywidth:]\n",
    "\n",
    "y = (detokenize_w(o), detokenize_w(c))\n",
    "\n",
    "x1 = detokenize_0(t1)\n",
    "x2 = detokenize_0(t2)\n",
    "\n",
    "text = detokenize_0(textok)\n",
    "func = redblue(y, x1, x2)\n",
    "\n",
    "response = XentLang().map(\",\").join(response)\n",
    "\n",
    "print(text+\"\\n\"+func+\"\\n\"+response)"
   ]
  },
  {
   "cell_type": "code",
   "execution_count": null,
   "metadata": {},
   "outputs": [
    {
     "data": {
      "text/plain": [
       "'@##$$##@redblue(([[a><b]]><c><d))>:ç%ç>:'"
      ]
     },
     "execution_count": 7,
     "metadata": {},
     "output_type": "execute_result"
    }
   ],
   "source": [
    "XentLang().map(\"def redblue([a, b], c, d):\")"
   ]
  }
 ],
 "metadata": {
  "kernelspec": {
   "display_name": "menv",
   "language": "python",
   "name": "python3"
  },
  "language_info": {
   "codemirror_mode": {
    "name": "ipython",
    "version": 3
   },
   "file_extension": ".py",
   "mimetype": "text/x-python",
   "name": "python",
   "nbconvert_exporter": "python",
   "pygments_lexer": "ipython3",
   "version": "3.12.4"
  }
 },
 "nbformat": 4,
 "nbformat_minor": 2
}
